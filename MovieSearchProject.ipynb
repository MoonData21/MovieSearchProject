{
 "cells": [
  {
   "cell_type": "code",
   "execution_count": 1,
   "id": "27938d9d-19de-4472-b384-f9d33194bf3d",
   "metadata": {},
   "outputs": [
    {
     "name": "stdout",
     "output_type": "stream",
     "text": [
      "Collecting cinemagoer\n",
      "  Downloading cinemagoer-2023.5.1-py3-none-any.whl.metadata (2.9 kB)\n",
      "Requirement already satisfied: SQLAlchemy in c:\\users\\pc\\anaconda3\\lib\\site-packages (from cinemagoer) (2.0.30)\n",
      "Requirement already satisfied: lxml in c:\\users\\pc\\anaconda3\\lib\\site-packages (from cinemagoer) (5.2.1)\n",
      "Requirement already satisfied: typing-extensions>=4.6.0 in c:\\users\\pc\\anaconda3\\lib\\site-packages (from SQLAlchemy->cinemagoer) (4.11.0)\n",
      "Requirement already satisfied: greenlet!=0.4.17 in c:\\users\\pc\\anaconda3\\lib\\site-packages (from SQLAlchemy->cinemagoer) (3.0.1)\n",
      "Downloading cinemagoer-2023.5.1-py3-none-any.whl (297 kB)\n",
      "   ---------------------------------------- 0.0/297.2 kB ? eta -:--:--\n",
      "   ------------------------------- -------- 235.5/297.2 kB 7.3 MB/s eta 0:00:01\n",
      "   ---------------------------------------- 297.2/297.2 kB 4.6 MB/s eta 0:00:00\n",
      "Installing collected packages: cinemagoer\n",
      "Successfully installed cinemagoer-2023.5.1\n",
      "Note: you may need to restart the kernel to use updated packages.\n"
     ]
    }
   ],
   "source": [
    "# Installing the cinemagoer library for the movie data.\n",
    "# pip install cinemagoer"
   ]
  },
  {
   "cell_type": "code",
   "execution_count": 3,
   "id": "c4759a30-a164-41e6-941d-c70c2e2b0b65",
   "metadata": {},
   "outputs": [],
   "source": [
    "import pandas as pd\n",
    "from imdb import Cinemagoer\n"
   ]
  },
  {
   "cell_type": "code",
   "execution_count": 7,
   "id": "05b8aca6-84af-42fb-b3b9-cfdb16e2deba",
   "metadata": {},
   "outputs": [
    {
     "name": "stdout",
     "output_type": "stream",
     "text": [
      "Michael Dixon\n"
     ]
    }
   ],
   "source": [
    "# Creating an instance of the Cinemagoer class.\n",
    "api = Cinemagoer()\n",
    "\n",
    "# Getting a movie and printing its director(s).\n",
    "the_matrix = api.get_movie('3728462')\n",
    "for director in the_matrix['directors']:\n",
    "    print(director['name'])\n",
    "\n"
   ]
  },
  {
   "cell_type": "code",
   "execution_count": 27,
   "id": "2288ffd0-0aab-461a-bf93-f52af98c864d",
   "metadata": {},
   "outputs": [
    {
     "data": {
      "text/plain": [
       "[<Movie id:0103359[http] title:_\"Batman: The Animated Series\" (1995) (1992)_>,\n",
       " <Movie id:7298666[http] title:_\"The Batman (Animated MC Series)\" (2018)_>,\n",
       " <Movie id:33969265[http] title:_Batman: The Animated Series (1993) (VG)_>,\n",
       " <Movie id:34762969[http] title:_Batman the Animated Series Podcast (2022)_>,\n",
       " <Movie id:13701802[http] title:_Stay 'Tooned! Presents - Batman: The Animated Series (2021)_>,\n",
       " <Movie id:33400206[http] title:_Batman: The Animated Series (1994) (VG)_>,\n",
       " <Movie id:34861202[http] title:_Batman: The Animated Series (2023)_>,\n",
       " <Movie id:28988519[http] title:_Batman: The Animated Series (2022)_>,\n",
       " <Movie id:35194350[http] title:_Batman: The Animated Series (2024)_>,\n",
       " <Movie id:9207164[http] title:_Batman: The Animated Series (2018)_>,\n",
       " <Movie id:32080167[http] title:_Batman: The Animated Series (2017)_>,\n",
       " <Movie id:33759863[http] title:_Batman: The Animated Series (2024)_>,\n",
       " <Movie id:22699046[http] title:_98 - Batman: The Animated Series (2017)_>,\n",
       " <Movie id:26110388[http] title:_69 - Batman: The Animated Series (2019)_>,\n",
       " <Movie id:26119738[http] title:_Batman the Animated Series Review (2022)_>,\n",
       " <Movie id:34917836[http] title:_#215 - Batman: The Animated Series (2024)_>,\n",
       " <Movie id:33463822[http] title:_Remembering Batman The Animated Series (2018)_>,\n",
       " <Movie id:31999366[http] title:_Bruce Wayne/Batman from Batman: The Animated Series (2022)_>,\n",
       " <Movie id:18801740[http] title:_Time For Batman: The Animated Series (2021)_>,\n",
       " <Movie id:28381798[http] title:_Episode 23: Batman: The Animated Series (2022)_>]"
      ]
     },
     "execution_count": 27,
     "metadata": {},
     "output_type": "execute_result"
    }
   ],
   "source": [
    "# Searching for a movie function\n",
    "movies = api.search_movie('Batman the Animated Series')\n",
    "movies"
   ]
  },
  {
   "cell_type": "code",
   "execution_count": 91,
   "id": "3d02f520-d342-4eb4-ac89-de39a1f73b88",
   "metadata": {},
   "outputs": [
    {
     "name": "stdin",
     "output_type": "stream",
     "text": [
      "Enter a movie name:  Batman\n"
     ]
    },
    {
     "name": "stdout",
     "output_type": "stream",
     "text": [
      "\n",
      "Search results:\n",
      "1, Batman (1989) \n",
      "2, The Batman (2022) \n",
      "3, Batman (1966) \n",
      "4, Batman Begins (2005) \n",
      "5, Batman: The Animated Series (1992) \n",
      "6, Batman Forever (1995) \n",
      "7, Batman Returns (1992) \n",
      "8, Batman & Robin (1997) \n",
      "9, Batman v Superman: Dawn of Justice (2016) \n",
      "10, The Batman Part II (2027) \n",
      "11, Batman: Caped Crusader (2024) \n",
      "12, Batman Beyond (1999) \n",
      "13, The Batman (2004) \n",
      "14, The Lego Batman Movie (2017) \n",
      "15, Batman (1943) \n",
      "16, Batman: Mask of the Phantasm (1993) \n",
      "17, Batman: The Brave and the Bold (2008) \n",
      "18, Batman: The Movie (1966) \n",
      "19, Batman: The Killing Joke (2016) \n",
      "20, Batman Unburied (2022) \n"
     ]
    },
    {
     "name": "stdin",
     "output_type": "stream",
     "text": [
      "\n",
      "Enter the number of the movie you want to get info for:  2\n"
     ]
    },
    {
     "name": "stdout",
     "output_type": "stream",
     "text": [
      "\n",
      "Movie Information:\n",
      "Title: The Batman\n",
      "Year: 2022\n",
      "Rating: 7.8\n",
      "Genres: Action, Crime, Drama, Mystery, Thriller\n",
      "Director(s): Matt Reeves\n",
      "Cast: Robert Pattinson, Zoë Kravitz, Jeffrey Wright, Colin Farrell, Paul Dano...\n",
      "Plot: Two years of nights have turned Bruce Wayne into a nocturnal animal. But as he continues to find his way as Gotham's dark knight Bruce is forced into a game of cat and mouse with his biggest threat so far, a manic killer known as \"The Riddler\" who is filled with rage and determined to expose the corrupt system whilst picking off all of Gotham's key political figures. Working with both established and new allies, Bruce must track down the killer and see him brought to justice, while investigating his father's true legacy and questioning the effect that he has had on Gotham so far as \"The Batman.\"\n",
      "Runtime: 176 minutes\n",
      "Country: United States\n",
      "Language: English, Spanish, Latin, Italian\n"
     ]
    }
   ],
   "source": [
    "api = Cinemagoer()\n",
    "Movie = input(\"Enter a movie name: \")\n",
    "items = api.search_movie(Movie)\n",
    "# Next is a for loop that iterates through the number of movies specific to the search item.\n",
    "# The index also starts at 0, which is why a + 1 is needed.\n",
    "# The for loop will provide a list of the movies and the year.\n",
    "print(\"\\nSearch results:\")\n",
    "for index, movie in enumerate(items):\n",
    "    print(f\"{index + 1}, {movie['title']} ({movie['year']}) \")\n",
    "\n",
    "# Using the input function, the index will be 1 due to the (index + 1 above). The -1 will bring the index back to 0.\n",
    "# Without putting the - 1 below, there will be a 'list index out of range' error.\n",
    "movie_index = int(input(\"\\nEnter the number of the movie you want to get info for: \")) - 1\n",
    "movie_id = items[movie_index].movieID\n",
    "movie_info = api.get_movie(movie_id)\n",
    "\n",
    "# This will take a little time retrieving this data below.\n",
    "print(\"\\nMovie Information:\")\n",
    "print(f\"Title: {movie_info.get('title')}\")\n",
    "print(f\"Year: {movie_info.get('year')}\")\n",
    "print(f\"Rating: {movie_info.get('rating')}\")\n",
    "print(f\"Genres: {', '.join(movie_info.get('genres', []))}\")\n",
    "print(f\"Director(s): {', '.join(str(d) for d in movie_info.get('directors', []))}\")\n",
    "print(f\"Cast: {', '.join(str(c) for c in movie_info.get('cast', [])[:5])}...\")\n",
    "print(f\"Plot: {movie_info.get('plot outline')}\")\n",
    "print(f\"Runtime: {movie_info.get('runtimes', ['N/A'])[0]} minutes\")\n",
    "print(f\"Country: {', '.join(movie_info.get('countries', []))}\")\n",
    "print(f\"Language: {', '.join(movie_info.get('languages', []))}\")\n"
   ]
  }
 ],
 "metadata": {
  "kernelspec": {
   "display_name": "Python 3 (ipykernel)",
   "language": "python",
   "name": "python3"
  },
  "language_info": {
   "codemirror_mode": {
    "name": "ipython",
    "version": 3
   },
   "file_extension": ".py",
   "mimetype": "text/x-python",
   "name": "python",
   "nbconvert_exporter": "python",
   "pygments_lexer": "ipython3",
   "version": "3.12.4"
  }
 },
 "nbformat": 4,
 "nbformat_minor": 5
}
